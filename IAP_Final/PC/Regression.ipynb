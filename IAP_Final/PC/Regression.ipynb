{
 "cells": [
  {
   "cell_type": "markdown",
   "metadata": {
    "id": "pYAJVyXPI4Co"
   },
   "source": [
    "Regression model"
   ]
  },
  {
   "cell_type": "code",
   "execution_count": 1,
   "metadata": {
    "colab": {
     "base_uri": "https://localhost:8080/"
    },
    "executionInfo": {
     "elapsed": 144695,
     "status": "ok",
     "timestamp": 1749725903172,
     "user": {
      "displayName": "이재원",
      "userId": "00961475728525731753"
     },
     "user_tz": -540
    },
    "id": "dvbhYf56UOD9",
    "outputId": "78a7e32f-f89f-445b-a3bb-a147369a058b"
   },
   "outputs": [
    {
     "name": "stdout",
     "output_type": "stream",
     "text": [
      "Requirement already satisfied: seaborn in /usr/local/lib/python3.11/dist-packages (0.13.2)\n",
      "Requirement already satisfied: numpy!=1.24.0,>=1.20 in /usr/local/lib/python3.11/dist-packages (from seaborn) (2.0.2)\n",
      "Requirement already satisfied: pandas>=1.2 in /usr/local/lib/python3.11/dist-packages (from seaborn) (2.2.2)\n",
      "Requirement already satisfied: matplotlib!=3.6.1,>=3.4 in /usr/local/lib/python3.11/dist-packages (from seaborn) (3.10.0)\n",
      "Requirement already satisfied: contourpy>=1.0.1 in /usr/local/lib/python3.11/dist-packages (from matplotlib!=3.6.1,>=3.4->seaborn) (1.3.2)\n",
      "Requirement already satisfied: cycler>=0.10 in /usr/local/lib/python3.11/dist-packages (from matplotlib!=3.6.1,>=3.4->seaborn) (0.12.1)\n",
      "Requirement already satisfied: fonttools>=4.22.0 in /usr/local/lib/python3.11/dist-packages (from matplotlib!=3.6.1,>=3.4->seaborn) (4.58.1)\n",
      "Requirement already satisfied: kiwisolver>=1.3.1 in /usr/local/lib/python3.11/dist-packages (from matplotlib!=3.6.1,>=3.4->seaborn) (1.4.8)\n",
      "Requirement already satisfied: packaging>=20.0 in /usr/local/lib/python3.11/dist-packages (from matplotlib!=3.6.1,>=3.4->seaborn) (24.2)\n",
      "Requirement already satisfied: pillow>=8 in /usr/local/lib/python3.11/dist-packages (from matplotlib!=3.6.1,>=3.4->seaborn) (11.2.1)\n",
      "Requirement already satisfied: pyparsing>=2.3.1 in /usr/local/lib/python3.11/dist-packages (from matplotlib!=3.6.1,>=3.4->seaborn) (3.2.3)\n",
      "Requirement already satisfied: python-dateutil>=2.7 in /usr/local/lib/python3.11/dist-packages (from matplotlib!=3.6.1,>=3.4->seaborn) (2.9.0.post0)\n",
      "Requirement already satisfied: pytz>=2020.1 in /usr/local/lib/python3.11/dist-packages (from pandas>=1.2->seaborn) (2025.2)\n",
      "Requirement already satisfied: tzdata>=2022.7 in /usr/local/lib/python3.11/dist-packages (from pandas>=1.2->seaborn) (2025.2)\n",
      "Requirement already satisfied: six>=1.5 in /usr/local/lib/python3.11/dist-packages (from python-dateutil>=2.7->matplotlib!=3.6.1,>=3.4->seaborn) (1.17.0)\n",
      "Requirement already satisfied: librosa in /usr/local/lib/python3.11/dist-packages (0.11.0)\n",
      "Requirement already satisfied: audioread>=2.1.9 in /usr/local/lib/python3.11/dist-packages (from librosa) (3.0.1)\n",
      "Requirement already satisfied: numba>=0.51.0 in /usr/local/lib/python3.11/dist-packages (from librosa) (0.60.0)\n",
      "Requirement already satisfied: numpy>=1.22.3 in /usr/local/lib/python3.11/dist-packages (from librosa) (2.0.2)\n",
      "Requirement already satisfied: scipy>=1.6.0 in /usr/local/lib/python3.11/dist-packages (from librosa) (1.15.3)\n",
      "Requirement already satisfied: scikit-learn>=1.1.0 in /usr/local/lib/python3.11/dist-packages (from librosa) (1.6.1)\n",
      "Requirement already satisfied: joblib>=1.0 in /usr/local/lib/python3.11/dist-packages (from librosa) (1.5.1)\n",
      "Requirement already satisfied: decorator>=4.3.0 in /usr/local/lib/python3.11/dist-packages (from librosa) (4.4.2)\n",
      "Requirement already satisfied: soundfile>=0.12.1 in /usr/local/lib/python3.11/dist-packages (from librosa) (0.13.1)\n",
      "Requirement already satisfied: pooch>=1.1 in /usr/local/lib/python3.11/dist-packages (from librosa) (1.8.2)\n",
      "Requirement already satisfied: soxr>=0.3.2 in /usr/local/lib/python3.11/dist-packages (from librosa) (0.5.0.post1)\n",
      "Requirement already satisfied: typing_extensions>=4.1.1 in /usr/local/lib/python3.11/dist-packages (from librosa) (4.14.0)\n",
      "Requirement already satisfied: lazy_loader>=0.1 in /usr/local/lib/python3.11/dist-packages (from librosa) (0.4)\n",
      "Requirement already satisfied: msgpack>=1.0 in /usr/local/lib/python3.11/dist-packages (from librosa) (1.1.0)\n",
      "Requirement already satisfied: packaging in /usr/local/lib/python3.11/dist-packages (from lazy_loader>=0.1->librosa) (24.2)\n",
      "Requirement already satisfied: llvmlite<0.44,>=0.43.0dev0 in /usr/local/lib/python3.11/dist-packages (from numba>=0.51.0->librosa) (0.43.0)\n",
      "Requirement already satisfied: platformdirs>=2.5.0 in /usr/local/lib/python3.11/dist-packages (from pooch>=1.1->librosa) (4.3.8)\n",
      "Requirement already satisfied: requests>=2.19.0 in /usr/local/lib/python3.11/dist-packages (from pooch>=1.1->librosa) (2.32.3)\n",
      "Requirement already satisfied: threadpoolctl>=3.1.0 in /usr/local/lib/python3.11/dist-packages (from scikit-learn>=1.1.0->librosa) (3.6.0)\n",
      "Requirement already satisfied: cffi>=1.0 in /usr/local/lib/python3.11/dist-packages (from soundfile>=0.12.1->librosa) (1.17.1)\n",
      "Requirement already satisfied: pycparser in /usr/local/lib/python3.11/dist-packages (from cffi>=1.0->soundfile>=0.12.1->librosa) (2.22)\n",
      "Requirement already satisfied: charset-normalizer<4,>=2 in /usr/local/lib/python3.11/dist-packages (from requests>=2.19.0->pooch>=1.1->librosa) (3.4.2)\n",
      "Requirement already satisfied: idna<4,>=2.5 in /usr/local/lib/python3.11/dist-packages (from requests>=2.19.0->pooch>=1.1->librosa) (3.10)\n",
      "Requirement already satisfied: urllib3<3,>=1.21.1 in /usr/local/lib/python3.11/dist-packages (from requests>=2.19.0->pooch>=1.1->librosa) (2.4.0)\n",
      "Requirement already satisfied: certifi>=2017.4.17 in /usr/local/lib/python3.11/dist-packages (from requests>=2.19.0->pooch>=1.1->librosa) (2025.4.26)\n",
      "Requirement already satisfied: soundfile in /usr/local/lib/python3.11/dist-packages (0.13.1)\n",
      "Requirement already satisfied: cffi>=1.0 in /usr/local/lib/python3.11/dist-packages (from soundfile) (1.17.1)\n",
      "Requirement already satisfied: numpy in /usr/local/lib/python3.11/dist-packages (from soundfile) (2.0.2)\n",
      "Requirement already satisfied: pycparser in /usr/local/lib/python3.11/dist-packages (from cffi>=1.0->soundfile) (2.22)\n",
      "Requirement already satisfied: torch in /usr/local/lib/python3.11/dist-packages (2.6.0+cu124)\n",
      "Requirement already satisfied: filelock in /usr/local/lib/python3.11/dist-packages (from torch) (3.18.0)\n",
      "Requirement already satisfied: typing-extensions>=4.10.0 in /usr/local/lib/python3.11/dist-packages (from torch) (4.14.0)\n",
      "Requirement already satisfied: networkx in /usr/local/lib/python3.11/dist-packages (from torch) (3.5)\n",
      "Requirement already satisfied: jinja2 in /usr/local/lib/python3.11/dist-packages (from torch) (3.1.6)\n",
      "Requirement already satisfied: fsspec in /usr/local/lib/python3.11/dist-packages (from torch) (2025.3.2)\n",
      "Collecting nvidia-cuda-nvrtc-cu12==12.4.127 (from torch)\n",
      "  Downloading nvidia_cuda_nvrtc_cu12-12.4.127-py3-none-manylinux2014_x86_64.whl.metadata (1.5 kB)\n",
      "Collecting nvidia-cuda-runtime-cu12==12.4.127 (from torch)\n",
      "  Downloading nvidia_cuda_runtime_cu12-12.4.127-py3-none-manylinux2014_x86_64.whl.metadata (1.5 kB)\n",
      "Collecting nvidia-cuda-cupti-cu12==12.4.127 (from torch)\n",
      "  Downloading nvidia_cuda_cupti_cu12-12.4.127-py3-none-manylinux2014_x86_64.whl.metadata (1.6 kB)\n",
      "Collecting nvidia-cudnn-cu12==9.1.0.70 (from torch)\n",
      "  Downloading nvidia_cudnn_cu12-9.1.0.70-py3-none-manylinux2014_x86_64.whl.metadata (1.6 kB)\n",
      "Collecting nvidia-cublas-cu12==12.4.5.8 (from torch)\n",
      "  Downloading nvidia_cublas_cu12-12.4.5.8-py3-none-manylinux2014_x86_64.whl.metadata (1.5 kB)\n",
      "Collecting nvidia-cufft-cu12==11.2.1.3 (from torch)\n",
      "  Downloading nvidia_cufft_cu12-11.2.1.3-py3-none-manylinux2014_x86_64.whl.metadata (1.5 kB)\n",
      "Collecting nvidia-curand-cu12==10.3.5.147 (from torch)\n",
      "  Downloading nvidia_curand_cu12-10.3.5.147-py3-none-manylinux2014_x86_64.whl.metadata (1.5 kB)\n",
      "Collecting nvidia-cusolver-cu12==11.6.1.9 (from torch)\n",
      "  Downloading nvidia_cusolver_cu12-11.6.1.9-py3-none-manylinux2014_x86_64.whl.metadata (1.6 kB)\n",
      "Collecting nvidia-cusparse-cu12==12.3.1.170 (from torch)\n",
      "  Downloading nvidia_cusparse_cu12-12.3.1.170-py3-none-manylinux2014_x86_64.whl.metadata (1.6 kB)\n",
      "Requirement already satisfied: nvidia-cusparselt-cu12==0.6.2 in /usr/local/lib/python3.11/dist-packages (from torch) (0.6.2)\n",
      "Requirement already satisfied: nvidia-nccl-cu12==2.21.5 in /usr/local/lib/python3.11/dist-packages (from torch) (2.21.5)\n",
      "Requirement already satisfied: nvidia-nvtx-cu12==12.4.127 in /usr/local/lib/python3.11/dist-packages (from torch) (12.4.127)\n",
      "Collecting nvidia-nvjitlink-cu12==12.4.127 (from torch)\n",
      "  Downloading nvidia_nvjitlink_cu12-12.4.127-py3-none-manylinux2014_x86_64.whl.metadata (1.5 kB)\n",
      "Requirement already satisfied: triton==3.2.0 in /usr/local/lib/python3.11/dist-packages (from torch) (3.2.0)\n",
      "Requirement already satisfied: sympy==1.13.1 in /usr/local/lib/python3.11/dist-packages (from torch) (1.13.1)\n",
      "Requirement already satisfied: mpmath<1.4,>=1.1.0 in /usr/local/lib/python3.11/dist-packages (from sympy==1.13.1->torch) (1.3.0)\n",
      "Requirement already satisfied: MarkupSafe>=2.0 in /usr/local/lib/python3.11/dist-packages (from jinja2->torch) (3.0.2)\n",
      "Downloading nvidia_cublas_cu12-12.4.5.8-py3-none-manylinux2014_x86_64.whl (363.4 MB)\n",
      "\u001b[2K   \u001b[90m━━━━━━━━━━━━━━━━━━━━━━━━━━━━━━━━━━━━━━━━\u001b[0m \u001b[32m363.4/363.4 MB\u001b[0m \u001b[31m2.7 MB/s\u001b[0m eta \u001b[36m0:00:00\u001b[0m\n",
      "\u001b[?25hDownloading nvidia_cuda_cupti_cu12-12.4.127-py3-none-manylinux2014_x86_64.whl (13.8 MB)\n",
      "\u001b[2K   \u001b[90m━━━━━━━━━━━━━━━━━━━━━━━━━━━━━━━━━━━━━━━━\u001b[0m \u001b[32m13.8/13.8 MB\u001b[0m \u001b[31m125.3 MB/s\u001b[0m eta \u001b[36m0:00:00\u001b[0m\n",
      "\u001b[?25hDownloading nvidia_cuda_nvrtc_cu12-12.4.127-py3-none-manylinux2014_x86_64.whl (24.6 MB)\n",
      "\u001b[2K   \u001b[90m━━━━━━━━━━━━━━━━━━━━━━━━━━━━━━━━━━━━━━━━\u001b[0m \u001b[32m24.6/24.6 MB\u001b[0m \u001b[31m95.1 MB/s\u001b[0m eta \u001b[36m0:00:00\u001b[0m\n",
      "\u001b[?25hDownloading nvidia_cuda_runtime_cu12-12.4.127-py3-none-manylinux2014_x86_64.whl (883 kB)\n",
      "\u001b[2K   \u001b[90m━━━━━━━━━━━━━━━━━━━━━━━━━━━━━━━━━━━━━━━━\u001b[0m \u001b[32m883.7/883.7 kB\u001b[0m \u001b[31m60.1 MB/s\u001b[0m eta \u001b[36m0:00:00\u001b[0m\n",
      "\u001b[?25hDownloading nvidia_cudnn_cu12-9.1.0.70-py3-none-manylinux2014_x86_64.whl (664.8 MB)\n",
      "\u001b[2K   \u001b[90m━━━━━━━━━━━━━━━━━━━━━━━━━━━━━━━━━━━━━━━━\u001b[0m \u001b[32m664.8/664.8 MB\u001b[0m \u001b[31m2.5 MB/s\u001b[0m eta \u001b[36m0:00:00\u001b[0m\n",
      "\u001b[?25hDownloading nvidia_cufft_cu12-11.2.1.3-py3-none-manylinux2014_x86_64.whl (211.5 MB)\n",
      "\u001b[2K   \u001b[90m━━━━━━━━━━━━━━━━━━━━━━━━━━━━━━━━━━━━━━━━\u001b[0m \u001b[32m211.5/211.5 MB\u001b[0m \u001b[31m6.9 MB/s\u001b[0m eta \u001b[36m0:00:00\u001b[0m\n",
      "\u001b[?25hDownloading nvidia_curand_cu12-10.3.5.147-py3-none-manylinux2014_x86_64.whl (56.3 MB)\n",
      "\u001b[2K   \u001b[90m━━━━━━━━━━━━━━━━━━━━━━━━━━━━━━━━━━━━━━━━\u001b[0m \u001b[32m56.3/56.3 MB\u001b[0m \u001b[31m14.1 MB/s\u001b[0m eta \u001b[36m0:00:00\u001b[0m\n",
      "\u001b[?25hDownloading nvidia_cusolver_cu12-11.6.1.9-py3-none-manylinux2014_x86_64.whl (127.9 MB)\n",
      "\u001b[2K   \u001b[90m━━━━━━━━━━━━━━━━━━━━━━━━━━━━━━━━━━━━━━━━\u001b[0m \u001b[32m127.9/127.9 MB\u001b[0m \u001b[31m7.9 MB/s\u001b[0m eta \u001b[36m0:00:00\u001b[0m\n",
      "\u001b[?25hDownloading nvidia_cusparse_cu12-12.3.1.170-py3-none-manylinux2014_x86_64.whl (207.5 MB)\n",
      "\u001b[2K   \u001b[90m━━━━━━━━━━━━━━━━━━━━━━━━━━━━━━━━━━━━━━━━\u001b[0m \u001b[32m207.5/207.5 MB\u001b[0m \u001b[31m5.7 MB/s\u001b[0m eta \u001b[36m0:00:00\u001b[0m\n",
      "\u001b[?25hDownloading nvidia_nvjitlink_cu12-12.4.127-py3-none-manylinux2014_x86_64.whl (21.1 MB)\n",
      "\u001b[2K   \u001b[90m━━━━━━━━━━━━━━━━━━━━━━━━━━━━━━━━━━━━━━━━\u001b[0m \u001b[32m21.1/21.1 MB\u001b[0m \u001b[31m78.1 MB/s\u001b[0m eta \u001b[36m0:00:00\u001b[0m\n",
      "\u001b[?25hInstalling collected packages: nvidia-nvjitlink-cu12, nvidia-curand-cu12, nvidia-cufft-cu12, nvidia-cuda-runtime-cu12, nvidia-cuda-nvrtc-cu12, nvidia-cuda-cupti-cu12, nvidia-cublas-cu12, nvidia-cusparse-cu12, nvidia-cudnn-cu12, nvidia-cusolver-cu12\n",
      "  Attempting uninstall: nvidia-nvjitlink-cu12\n",
      "    Found existing installation: nvidia-nvjitlink-cu12 12.5.82\n",
      "    Uninstalling nvidia-nvjitlink-cu12-12.5.82:\n",
      "      Successfully uninstalled nvidia-nvjitlink-cu12-12.5.82\n",
      "  Attempting uninstall: nvidia-curand-cu12\n",
      "    Found existing installation: nvidia-curand-cu12 10.3.6.82\n",
      "    Uninstalling nvidia-curand-cu12-10.3.6.82:\n",
      "      Successfully uninstalled nvidia-curand-cu12-10.3.6.82\n",
      "  Attempting uninstall: nvidia-cufft-cu12\n",
      "    Found existing installation: nvidia-cufft-cu12 11.2.3.61\n",
      "    Uninstalling nvidia-cufft-cu12-11.2.3.61:\n",
      "      Successfully uninstalled nvidia-cufft-cu12-11.2.3.61\n",
      "  Attempting uninstall: nvidia-cuda-runtime-cu12\n",
      "    Found existing installation: nvidia-cuda-runtime-cu12 12.5.82\n",
      "    Uninstalling nvidia-cuda-runtime-cu12-12.5.82:\n",
      "      Successfully uninstalled nvidia-cuda-runtime-cu12-12.5.82\n",
      "  Attempting uninstall: nvidia-cuda-nvrtc-cu12\n",
      "    Found existing installation: nvidia-cuda-nvrtc-cu12 12.5.82\n",
      "    Uninstalling nvidia-cuda-nvrtc-cu12-12.5.82:\n",
      "      Successfully uninstalled nvidia-cuda-nvrtc-cu12-12.5.82\n",
      "  Attempting uninstall: nvidia-cuda-cupti-cu12\n",
      "    Found existing installation: nvidia-cuda-cupti-cu12 12.5.82\n",
      "    Uninstalling nvidia-cuda-cupti-cu12-12.5.82:\n",
      "      Successfully uninstalled nvidia-cuda-cupti-cu12-12.5.82\n",
      "  Attempting uninstall: nvidia-cublas-cu12\n",
      "    Found existing installation: nvidia-cublas-cu12 12.5.3.2\n",
      "    Uninstalling nvidia-cublas-cu12-12.5.3.2:\n",
      "      Successfully uninstalled nvidia-cublas-cu12-12.5.3.2\n",
      "  Attempting uninstall: nvidia-cusparse-cu12\n",
      "    Found existing installation: nvidia-cusparse-cu12 12.5.1.3\n",
      "    Uninstalling nvidia-cusparse-cu12-12.5.1.3:\n",
      "      Successfully uninstalled nvidia-cusparse-cu12-12.5.1.3\n",
      "  Attempting uninstall: nvidia-cudnn-cu12\n",
      "    Found existing installation: nvidia-cudnn-cu12 9.3.0.75\n",
      "    Uninstalling nvidia-cudnn-cu12-9.3.0.75:\n",
      "      Successfully uninstalled nvidia-cudnn-cu12-9.3.0.75\n",
      "  Attempting uninstall: nvidia-cusolver-cu12\n",
      "    Found existing installation: nvidia-cusolver-cu12 11.6.3.83\n",
      "    Uninstalling nvidia-cusolver-cu12-11.6.3.83:\n",
      "      Successfully uninstalled nvidia-cusolver-cu12-11.6.3.83\n",
      "Successfully installed nvidia-cublas-cu12-12.4.5.8 nvidia-cuda-cupti-cu12-12.4.127 nvidia-cuda-nvrtc-cu12-12.4.127 nvidia-cuda-runtime-cu12-12.4.127 nvidia-cudnn-cu12-9.1.0.70 nvidia-cufft-cu12-11.2.1.3 nvidia-curand-cu12-10.3.5.147 nvidia-cusolver-cu12-11.6.1.9 nvidia-cusparse-cu12-12.3.1.170 nvidia-nvjitlink-cu12-12.4.127\n",
      "Requirement already satisfied: torchaudio in /usr/local/lib/python3.11/dist-packages (2.6.0+cu124)\n",
      "Requirement already satisfied: torch==2.6.0 in /usr/local/lib/python3.11/dist-packages (from torchaudio) (2.6.0+cu124)\n",
      "Requirement already satisfied: filelock in /usr/local/lib/python3.11/dist-packages (from torch==2.6.0->torchaudio) (3.18.0)\n",
      "Requirement already satisfied: typing-extensions>=4.10.0 in /usr/local/lib/python3.11/dist-packages (from torch==2.6.0->torchaudio) (4.14.0)\n",
      "Requirement already satisfied: networkx in /usr/local/lib/python3.11/dist-packages (from torch==2.6.0->torchaudio) (3.5)\n",
      "Requirement already satisfied: jinja2 in /usr/local/lib/python3.11/dist-packages (from torch==2.6.0->torchaudio) (3.1.6)\n",
      "Requirement already satisfied: fsspec in /usr/local/lib/python3.11/dist-packages (from torch==2.6.0->torchaudio) (2025.3.2)\n",
      "Requirement already satisfied: nvidia-cuda-nvrtc-cu12==12.4.127 in /usr/local/lib/python3.11/dist-packages (from torch==2.6.0->torchaudio) (12.4.127)\n",
      "Requirement already satisfied: nvidia-cuda-runtime-cu12==12.4.127 in /usr/local/lib/python3.11/dist-packages (from torch==2.6.0->torchaudio) (12.4.127)\n",
      "Requirement already satisfied: nvidia-cuda-cupti-cu12==12.4.127 in /usr/local/lib/python3.11/dist-packages (from torch==2.6.0->torchaudio) (12.4.127)\n",
      "Requirement already satisfied: nvidia-cudnn-cu12==9.1.0.70 in /usr/local/lib/python3.11/dist-packages (from torch==2.6.0->torchaudio) (9.1.0.70)\n",
      "Requirement already satisfied: nvidia-cublas-cu12==12.4.5.8 in /usr/local/lib/python3.11/dist-packages (from torch==2.6.0->torchaudio) (12.4.5.8)\n",
      "Requirement already satisfied: nvidia-cufft-cu12==11.2.1.3 in /usr/local/lib/python3.11/dist-packages (from torch==2.6.0->torchaudio) (11.2.1.3)\n",
      "Requirement already satisfied: nvidia-curand-cu12==10.3.5.147 in /usr/local/lib/python3.11/dist-packages (from torch==2.6.0->torchaudio) (10.3.5.147)\n",
      "Requirement already satisfied: nvidia-cusolver-cu12==11.6.1.9 in /usr/local/lib/python3.11/dist-packages (from torch==2.6.0->torchaudio) (11.6.1.9)\n",
      "Requirement already satisfied: nvidia-cusparse-cu12==12.3.1.170 in /usr/local/lib/python3.11/dist-packages (from torch==2.6.0->torchaudio) (12.3.1.170)\n",
      "Requirement already satisfied: nvidia-cusparselt-cu12==0.6.2 in /usr/local/lib/python3.11/dist-packages (from torch==2.6.0->torchaudio) (0.6.2)\n",
      "Requirement already satisfied: nvidia-nccl-cu12==2.21.5 in /usr/local/lib/python3.11/dist-packages (from torch==2.6.0->torchaudio) (2.21.5)\n",
      "Requirement already satisfied: nvidia-nvtx-cu12==12.4.127 in /usr/local/lib/python3.11/dist-packages (from torch==2.6.0->torchaudio) (12.4.127)\n",
      "Requirement already satisfied: nvidia-nvjitlink-cu12==12.4.127 in /usr/local/lib/python3.11/dist-packages (from torch==2.6.0->torchaudio) (12.4.127)\n",
      "Requirement already satisfied: triton==3.2.0 in /usr/local/lib/python3.11/dist-packages (from torch==2.6.0->torchaudio) (3.2.0)\n",
      "Requirement already satisfied: sympy==1.13.1 in /usr/local/lib/python3.11/dist-packages (from torch==2.6.0->torchaudio) (1.13.1)\n",
      "Requirement already satisfied: mpmath<1.4,>=1.1.0 in /usr/local/lib/python3.11/dist-packages (from sympy==1.13.1->torch==2.6.0->torchaudio) (1.3.0)\n",
      "Requirement already satisfied: MarkupSafe>=2.0 in /usr/local/lib/python3.11/dist-packages (from jinja2->torch==2.6.0->torchaudio) (3.0.2)\n",
      "Collecting onnxruntime\n",
      "  Downloading onnxruntime-1.22.0-cp311-cp311-manylinux_2_27_x86_64.manylinux_2_28_x86_64.whl.metadata (4.5 kB)\n",
      "Collecting coloredlogs (from onnxruntime)\n",
      "  Downloading coloredlogs-15.0.1-py2.py3-none-any.whl.metadata (12 kB)\n",
      "Requirement already satisfied: flatbuffers in /usr/local/lib/python3.11/dist-packages (from onnxruntime) (25.2.10)\n",
      "Requirement already satisfied: numpy>=1.21.6 in /usr/local/lib/python3.11/dist-packages (from onnxruntime) (2.0.2)\n",
      "Requirement already satisfied: packaging in /usr/local/lib/python3.11/dist-packages (from onnxruntime) (24.2)\n",
      "Requirement already satisfied: protobuf in /usr/local/lib/python3.11/dist-packages (from onnxruntime) (5.29.5)\n",
      "Requirement already satisfied: sympy in /usr/local/lib/python3.11/dist-packages (from onnxruntime) (1.13.1)\n",
      "Collecting humanfriendly>=9.1 (from coloredlogs->onnxruntime)\n",
      "  Downloading humanfriendly-10.0-py2.py3-none-any.whl.metadata (9.2 kB)\n",
      "Requirement already satisfied: mpmath<1.4,>=1.1.0 in /usr/local/lib/python3.11/dist-packages (from sympy->onnxruntime) (1.3.0)\n",
      "Downloading onnxruntime-1.22.0-cp311-cp311-manylinux_2_27_x86_64.manylinux_2_28_x86_64.whl (16.4 MB)\n",
      "\u001b[2K   \u001b[90m━━━━━━━━━━━━━━━━━━━━━━━━━━━━━━━━━━━━━━━━\u001b[0m \u001b[32m16.4/16.4 MB\u001b[0m \u001b[31m89.4 MB/s\u001b[0m eta \u001b[36m0:00:00\u001b[0m\n",
      "\u001b[?25hDownloading coloredlogs-15.0.1-py2.py3-none-any.whl (46 kB)\n",
      "\u001b[2K   \u001b[90m━━━━━━━━━━━━━━━━━━━━━━━━━━━━━━━━━━━━━━━━\u001b[0m \u001b[32m46.0/46.0 kB\u001b[0m \u001b[31m4.5 MB/s\u001b[0m eta \u001b[36m0:00:00\u001b[0m\n",
      "\u001b[?25hDownloading humanfriendly-10.0-py2.py3-none-any.whl (86 kB)\n",
      "\u001b[2K   \u001b[90m━━━━━━━━━━━━━━━━━━━━━━━━━━━━━━━━━━━━━━━━\u001b[0m \u001b[32m86.8/86.8 kB\u001b[0m \u001b[31m8.4 MB/s\u001b[0m eta \u001b[36m0:00:00\u001b[0m\n",
      "\u001b[?25hInstalling collected packages: humanfriendly, coloredlogs, onnxruntime\n",
      "Successfully installed coloredlogs-15.0.1 humanfriendly-10.0 onnxruntime-1.22.0\n"
     ]
    }
   ],
   "source": [
    "%pip install seaborn\n",
    "%pip install librosa\n",
    "%pip install soundfile\n",
    "%pip install torch\n",
    "%pip install torchaudio\n",
    "%pip install onnxruntime"
   ]
  },
  {
   "cell_type": "code",
   "execution_count": 2,
   "metadata": {
    "colab": {
     "base_uri": "https://localhost:8080/"
    },
    "executionInfo": {
     "elapsed": 8086,
     "status": "ok",
     "timestamp": 1749725946435,
     "user": {
      "displayName": "이재원",
      "userId": "00961475728525731753"
     },
     "user_tz": -540
    },
    "id": "OKvvcjkL5OVm",
    "outputId": "5bed89b2-69af-47b6-96b2-eab12774f1ba"
   },
   "outputs": [
    {
     "name": "stdout",
     "output_type": "stream",
     "text": [
      "Collecting skl2onnx\n",
      "  Downloading skl2onnx-1.19.1-py3-none-any.whl.metadata (3.8 kB)\n",
      "Collecting onnx\n",
      "  Downloading onnx-1.18.0-cp311-cp311-manylinux_2_17_x86_64.manylinux2014_x86_64.whl.metadata (6.9 kB)\n",
      "Requirement already satisfied: scikit-learn>=1.1 in /usr/local/lib/python3.11/dist-packages (from skl2onnx) (1.6.1)\n",
      "Requirement already satisfied: numpy>=1.22 in /usr/local/lib/python3.11/dist-packages (from onnx) (2.0.2)\n",
      "Requirement already satisfied: protobuf>=4.25.1 in /usr/local/lib/python3.11/dist-packages (from onnx) (5.29.5)\n",
      "Requirement already satisfied: typing_extensions>=4.7.1 in /usr/local/lib/python3.11/dist-packages (from onnx) (4.14.0)\n",
      "Requirement already satisfied: scipy>=1.6.0 in /usr/local/lib/python3.11/dist-packages (from scikit-learn>=1.1->skl2onnx) (1.15.3)\n",
      "Requirement already satisfied: joblib>=1.2.0 in /usr/local/lib/python3.11/dist-packages (from scikit-learn>=1.1->skl2onnx) (1.5.1)\n",
      "Requirement already satisfied: threadpoolctl>=3.1.0 in /usr/local/lib/python3.11/dist-packages (from scikit-learn>=1.1->skl2onnx) (3.6.0)\n",
      "Downloading skl2onnx-1.19.1-py3-none-any.whl (315 kB)\n",
      "\u001b[2K   \u001b[90m━━━━━━━━━━━━━━━━━━━━━━━━━━━━━━━━━━━━━━━━\u001b[0m \u001b[32m315.5/315.5 kB\u001b[0m \u001b[31m10.1 MB/s\u001b[0m eta \u001b[36m0:00:00\u001b[0m\n",
      "\u001b[?25hDownloading onnx-1.18.0-cp311-cp311-manylinux_2_17_x86_64.manylinux2014_x86_64.whl (17.6 MB)\n",
      "\u001b[2K   \u001b[90m━━━━━━━━━━━━━━━━━━━━━━━━━━━━━━━━━━━━━━━━\u001b[0m \u001b[32m17.6/17.6 MB\u001b[0m \u001b[31m113.7 MB/s\u001b[0m eta \u001b[36m0:00:00\u001b[0m\n",
      "\u001b[?25hInstalling collected packages: onnx, skl2onnx\n",
      "Successfully installed onnx-1.18.0 skl2onnx-1.19.1\n"
     ]
    }
   ],
   "source": [
    "%pip install skl2onnx onnx"
   ]
  },
  {
   "cell_type": "code",
   "execution_count": null,
   "metadata": {
    "id": "VzUfEnWVUOD_",
    "outputId": "567a2fae-9638-4d65-a96d-838af5f57fe0"
   },
   "outputs": [
    {
     "name": "stdout",
     "output_type": "stream",
     "text": [
      "g:\\내 드라이브\\IAP_Final\\source\n"
     ]
    },
    {
     "name": "stderr",
     "output_type": "stream",
     "text": [
      "c:\\Users\\JUNE\\AppData\\Local\\Programs\\Python\\Python310\\lib\\site-packages\\IPython\\core\\magics\\osm.py:417: UserWarning: using dhist requires you to install the `pickleshare` library.\n",
      "  self.shell.db['dhist'] = compress_dhist(dhist)[-100:]\n"
     ]
    }
   ],
   "source": [
    "cd \"g:\\내 드라이브\\IAP_Final/PC/source\""
   ]
  },
  {
   "cell_type": "code",
   "execution_count": 3,
   "metadata": {
    "colab": {
     "base_uri": "https://localhost:8080/"
    },
    "executionInfo": {
     "elapsed": 20128,
     "status": "ok",
     "timestamp": 1749725968659,
     "user": {
      "displayName": "이재원",
      "userId": "00961475728525731753"
     },
     "user_tz": -540
    },
    "id": "j1sBZv-VWG4m",
    "outputId": "587217c6-634b-429f-859d-3660931335fa"
   },
   "outputs": [
    {
     "name": "stdout",
     "output_type": "stream",
     "text": [
      "Mounted at /content/drive\n"
     ]
    }
   ],
   "source": [
    "from google.colab import drive\n",
    "drive.mount('/content/drive')"
   ]
  },
  {
   "cell_type": "code",
   "execution_count": 5,
   "metadata": {
    "colab": {
     "base_uri": "https://localhost:8080/"
    },
    "executionInfo": {
     "elapsed": 401,
     "status": "ok",
     "timestamp": 1749726018225,
     "user": {
      "displayName": "이재원",
      "userId": "00961475728525731753"
     },
     "user_tz": -540
    },
    "id": "wy-QXElJyOf9",
    "outputId": "b22692f8-3848-4d22-b8d7-f57271420f54"
   },
   "outputs": [
    {
     "name": "stdout",
     "output_type": "stream",
     "text": [
      "/content/drive/.shortcut-targets-by-id/10b_mTeA0LBn0XnIPn1kDV03ig94XXR0w/IAP_Final/PC/source\n"
     ]
    }
   ],
   "source": [
    "cd '/content/drive/MyDrive/IAP_Final/PC/source'"
   ]
  },
  {
   "cell_type": "code",
   "execution_count": 6,
   "metadata": {
    "colab": {
     "base_uri": "https://localhost:8080/",
     "height": 1000
    },
    "executionInfo": {
     "elapsed": 3353,
     "status": "ok",
     "timestamp": 1749726028195,
     "user": {
      "displayName": "이재원",
      "userId": "00961475728525731753"
     },
     "user_tz": -540
    },
    "id": "2uCU4XQtI1t-",
    "outputId": "ff5976d5-7b1f-42b7-f7a2-e1eac5e81382"
   },
   "outputs": [
    {
     "name": "stdout",
     "output_type": "stream",
     "text": [
      "(840,)\n",
      "(840, 256)\n",
      "✅ Accuracy: 0.6394557823129252\n",
      "\n",
      "📄 Classification Report:\n",
      "              precision    recall  f1-score   support\n",
      "\n",
      "          낮음       0.50      0.66      0.57        53\n",
      "          높음       0.77      0.63      0.69        94\n",
      "\n",
      "    accuracy                           0.64       147\n",
      "   macro avg       0.63      0.64      0.63       147\n",
      "weighted avg       0.67      0.64      0.65       147\n",
      "\n"
     ]
    },
    {
     "name": "stderr",
     "output_type": "stream",
     "text": [
      "/usr/local/lib/python3.11/dist-packages/sklearn/linear_model/_logistic.py:465: ConvergenceWarning: lbfgs failed to converge (status=1):\n",
      "STOP: TOTAL NO. OF ITERATIONS REACHED LIMIT.\n",
      "\n",
      "Increase the number of iterations (max_iter) or scale the data as shown in:\n",
      "    https://scikit-learn.org/stable/modules/preprocessing.html\n",
      "Please also refer to the documentation for alternative solver options:\n",
      "    https://scikit-learn.org/stable/modules/linear_model.html#logistic-regression\n",
      "  n_iter_i = _check_optimize_result(\n",
      "/usr/local/lib/python3.11/dist-packages/seaborn/utils.py:61: UserWarning: Glyph 45230 (\\N{HANGUL SYLLABLE NAJ}) missing from font(s) DejaVu Sans.\n",
      "  fig.canvas.draw()\n",
      "/usr/local/lib/python3.11/dist-packages/seaborn/utils.py:61: UserWarning: Glyph 51020 (\\N{HANGUL SYLLABLE EUM}) missing from font(s) DejaVu Sans.\n",
      "  fig.canvas.draw()\n",
      "/usr/local/lib/python3.11/dist-packages/seaborn/utils.py:61: UserWarning: Glyph 45458 (\\N{HANGUL SYLLABLE NOP}) missing from font(s) DejaVu Sans.\n",
      "  fig.canvas.draw()\n",
      "/usr/local/lib/python3.11/dist-packages/IPython/core/pylabtools.py:151: UserWarning: Glyph 45230 (\\N{HANGUL SYLLABLE NAJ}) missing from font(s) DejaVu Sans.\n",
      "  fig.canvas.print_figure(bytes_io, **kw)\n",
      "/usr/local/lib/python3.11/dist-packages/IPython/core/pylabtools.py:151: UserWarning: Glyph 51020 (\\N{HANGUL SYLLABLE EUM}) missing from font(s) DejaVu Sans.\n",
      "  fig.canvas.print_figure(bytes_io, **kw)\n",
      "/usr/local/lib/python3.11/dist-packages/IPython/core/pylabtools.py:151: UserWarning: Glyph 45458 (\\N{HANGUL SYLLABLE NOP}) missing from font(s) DejaVu Sans.\n",
      "  fig.canvas.print_figure(bytes_io, **kw)\n"
     ]
    },
    {
     "data": {
      "image/png": "[encoded data removed]",
      "text/plain": [
       "<Figure size 550x500 with 2 Axes>"
      ]
     },
     "metadata": {},
     "output_type": "display_data"
    }
   ],
   "source": [
    "import numpy as np\n",
    "import matplotlib.pyplot as plt\n",
    "import seaborn as sns\n",
    "from sklearn.model_selection import train_test_split\n",
    "from sklearn.linear_model import LogisticRegression\n",
    "from sklearn.preprocessing import StandardScaler\n",
    "from sklearn.metrics import (\n",
    "    accuracy_score, precision_score, recall_score,\n",
    "    f1_score, classification_report, confusion_matrix\n",
    ")\n",
    "\n",
    "\n",
    "# 1. .npz 불러오기\n",
    "voices_npz = np.load(\"./vectors/voice_vectors.npz\")\n",
    "songs_npz = np.load(\"./vectors/music_vectors.npz\")\n",
    "y = np.load(\"./vectors/y_vectors.npz\")[\"y\"]  # (M, N)\n",
    "\n",
    "# 2. y.shape 기반으로 키 자르기\n",
    "M, N = y.shape\n",
    "voice_keys = voices_npz.files[:M]\n",
    "song_keys = songs_npz.files[:N]\n",
    "\n",
    "# 3. 벡터 배열 생성\n",
    "voices = np.stack([voices_npz[k] for k in voice_keys])  # (M, 128)\n",
    "songs  = np.stack([songs_npz[k] for k in song_keys])    # (N, 128)\n",
    "\n",
    "# 4. 입력 벡터 구성\n",
    "voice_repeated = np.repeat(voices, N, axis=0)           # (M×N, 128)\n",
    "song_tiled     = np.tile(songs, (M, 1))                 # (M×N, 128)\n",
    "X              = np.hstack([voice_repeated, song_tiled])  # (M×N, 256)\n",
    "y_flat         = y.flatten()                            # (M×N,)\n",
    "\n",
    "print(y_flat.shape)\n",
    "print(X.shape)\n",
    "\n",
    "# 5. NaN 제거\n",
    "valid_indices = ~np.isnan(y_flat)\n",
    "X_valid = X[valid_indices]\n",
    "y_valid = y_flat[valid_indices]\n",
    "\n",
    "# 6. y를 2단계 분류 (0.5 기준)로 변환\n",
    "y_binary = np.where(y_valid < 0.5, 0, 1)  # 0: 낮음, 1: 높음\n",
    "\n",
    "# 7. 정규화\n",
    "scaler = StandardScaler()\n",
    "X_scaled = scaler.fit_transform(X_valid)\n",
    "\n",
    "# 8. 학습/검증 분할\n",
    "X_train, X_test, y_train, y_test = train_test_split(\n",
    "    X_scaled, y_binary, test_size=0.2, random_state=12\n",
    ")\n",
    "\n",
    "# 9. 로지스틱 회귀 모델 학습\n",
    "model = LogisticRegression(\n",
    "    solver='lbfgs',\n",
    "    max_iter=50,\n",
    "    class_weight='balanced',  # 데이터 불균형 대응\n",
    "    random_state=31\n",
    ")\n",
    "model.fit(X_train, y_train)\n",
    " #10. 예측 및 평가\n",
    "y_pred = model.predict(X_test)\n",
    "print(\"✅ Accuracy:\", accuracy_score(y_test, y_pred))\n",
    "print(\"\\n📄 Classification Report:\")\n",
    "print(classification_report(y_test, y_pred, target_names=[\"낮음\", \"높음\"]))\n",
    "# 11. 혼동 행렬 시각화\n",
    "plt.figure(figsize=(5.5, 5))\n",
    "sns.heatmap(confusion_matrix(y_test, y_pred), annot=True, fmt=\"d\", cmap=\"Greens\",\n",
    "            xticklabels=[\"낮음\", \"높음\"], yticklabels=[\"낮음\", \"높음\"])\n",
    "plt.xlabel(\"Predicted\")\n",
    "plt.ylabel(\"Actual\")\n",
    "plt.title(\"Confusion Matrix (Logistic Regression - Binary)\")\n",
    "plt.tight_layout()\n",
    "plt.show()\n"
   ]
  },
  {
   "cell_type": "code",
   "execution_count": null,
   "metadata": {
    "colab": {
     "base_uri": "https://localhost:8080/",
     "height": 1000
    },
    "executionInfo": {
     "elapsed": 1123,
     "status": "ok",
     "timestamp": 1749642009130,
     "user": {
      "displayName": "June Six",
      "userId": "14608914013626723392"
     },
     "user_tz": -540
    },
    "id": "ogoBvdLsFHY-",
    "outputId": "66654d8e-6064-4097-80d7-4ad8bb8f5a10"
   },
   "outputs": [
    {
     "name": "stdout",
     "output_type": "stream",
     "text": [
      "✅ Accuracy: 0.7142857142857143\n",
      "\n",
      "📄 Classification Report:\n",
      "              precision    recall  f1-score   support\n",
      "\n",
      "          낮음       0.59      0.68      0.63        53\n",
      "          높음       0.80      0.73      0.77        94\n",
      "\n",
      "    accuracy                           0.71       147\n",
      "   macro avg       0.70      0.71      0.70       147\n",
      "weighted avg       0.73      0.71      0.72       147\n",
      "\n"
     ]
    },
    {
     "name": "stderr",
     "output_type": "stream",
     "text": [
      "/usr/local/lib/python3.11/dist-packages/sklearn/neural_network/_multilayer_perceptron.py:691: ConvergenceWarning: Stochastic Optimizer: Maximum iterations (100) reached and the optimization hasn't converged yet.\n",
      "  warnings.warn(\n",
      "/usr/local/lib/python3.11/dist-packages/seaborn/utils.py:61: UserWarning: Glyph 45230 (\\N{HANGUL SYLLABLE NAJ}) missing from font(s) DejaVu Sans.\n",
      "  fig.canvas.draw()\n",
      "/usr/local/lib/python3.11/dist-packages/seaborn/utils.py:61: UserWarning: Glyph 51020 (\\N{HANGUL SYLLABLE EUM}) missing from font(s) DejaVu Sans.\n",
      "  fig.canvas.draw()\n",
      "/usr/local/lib/python3.11/dist-packages/seaborn/utils.py:61: UserWarning: Glyph 45458 (\\N{HANGUL SYLLABLE NOP}) missing from font(s) DejaVu Sans.\n",
      "  fig.canvas.draw()\n",
      "/usr/local/lib/python3.11/dist-packages/IPython/core/pylabtools.py:151: UserWarning: Glyph 45230 (\\N{HANGUL SYLLABLE NAJ}) missing from font(s) DejaVu Sans.\n",
      "  fig.canvas.print_figure(bytes_io, **kw)\n",
      "/usr/local/lib/python3.11/dist-packages/IPython/core/pylabtools.py:151: UserWarning: Glyph 51020 (\\N{HANGUL SYLLABLE EUM}) missing from font(s) DejaVu Sans.\n",
      "  fig.canvas.print_figure(bytes_io, **kw)\n",
      "/usr/local/lib/python3.11/dist-packages/IPython/core/pylabtools.py:151: UserWarning: Glyph 45458 (\\N{HANGUL SYLLABLE NOP}) missing from font(s) DejaVu Sans.\n",
      "  fig.canvas.print_figure(bytes_io, **kw)\n"
     ]
    },
    {
     "data": {
      "image/png": "[encoded data removed]",
      "text/plain": [
       "<Figure size 550x500 with 2 Axes>"
      ]
     },
     "metadata": {},
     "output_type": "display_data"
    }
   ],
   "source": [
    "import numpy as np\n",
    "import matplotlib.pyplot as plt\n",
    "import seaborn as sns\n",
    "from sklearn.model_selection import train_test_split\n",
    "from sklearn.neural_network import MLPClassifier\n",
    "from sklearn.preprocessing import StandardScaler\n",
    "from sklearn.metrics import (\n",
    "    accuracy_score, precision_score, recall_score,\n",
    "    f1_score, classification_report, confusion_matrix\n",
    ")\n",
    "import joblib\n",
    "\n",
    "# 1. .npz 불러오기\n",
    "voices_npz = np.load(\"./vectors/voice_vectors.npz\")\n",
    "songs_npz = np.load(\"./vectors/music_vectors.npz\")\n",
    "y = np.load(\"./vectors/y_vectors.npz\")[\"y\"]  # (M, N)\n",
    "\n",
    "# 2. y.shape 기반으로 키 자르기\n",
    "M, N = y.shape\n",
    "voice_keys = voices_npz.files[:M]\n",
    "song_keys = songs_npz.files[:N]\n",
    "\n",
    "# 3. 벡터 배열 생성\n",
    "voices = np.stack([voices_npz[k] for k in voice_keys])  # (M, 128)\n",
    "songs  = np.stack([songs_npz[k] for k in song_keys])    # (N, 128)\n",
    "\n",
    "# 4. 입력 벡터 구성\n",
    "voice_repeated = np.repeat(voices, N, axis=0)           # (M×N, 128)\n",
    "song_tiled     = np.tile(songs, (M, 1))                 # (M×N, 128)\n",
    "X              = np.hstack([voice_repeated, song_tiled])  # (M×N, 256)\n",
    "y_flat         = y.flatten()                            # (M×N, 1)\n",
    "\n",
    "# 5. NaN 제거\n",
    "valid_indices = ~np.isnan(y_flat)\n",
    "X_valid = X[valid_indices]\n",
    "y_valid = y_flat[valid_indices]\n",
    "\n",
    "# 6. y를 2단계 분류 (0.5 기준)로 변환\n",
    "y_binary = np.where(y_valid < 0.5, 0, 1)\n",
    "\n",
    "# 7. 정규화\n",
    "scaler = StandardScaler()\n",
    "X_scaled = scaler.fit_transform(X_valid)\n",
    "\n",
    "# 8. 학습/검증 분할\n",
    "X_train, X_test, y_train, y_test = train_test_split(\n",
    "    X_scaled, y_binary, test_size=0.2, random_state=12\n",
    ")\n",
    "\n",
    "# 9. MLP 모델 학습\n",
    "model = MLPClassifier(\n",
    "    hidden_layer_sizes=(128,),  # 은닉층 1개, 노드 128개\n",
    "    activation='relu',\n",
    "    solver='adam',\n",
    "    max_iter=100,\n",
    "    random_state=31\n",
    ")\n",
    "model.fit(X_train, y_train)\n",
    "\n",
    "# 10. 예측 및 평가\n",
    "y_pred = model.predict(X_test)\n",
    "print(\"✅ Accuracy:\", accuracy_score(y_test, y_pred))\n",
    "print(\"\\n📄 Classification Report:\")\n",
    "print(classification_report(y_test, y_pred, target_names=[\"낮음\", \"높음\"]))\n",
    "\n",
    "# 11. 혼동 행렬 시각화\n",
    "plt.figure(figsize=(5.5, 5))\n",
    "sns.heatmap(confusion_matrix(y_test, y_pred), annot=True, fmt=\"d\", cmap=\"Blues\",\n",
    "            xticklabels=[\"낮음\", \"높음\"], yticklabels=[\"낮음\", \"높음\"])\n",
    "plt.xlabel(\"Predicted\")\n",
    "plt.ylabel(\"Actual\")\n",
    "plt.title(\"Confusion Matrix (MLP - Binary)\")\n",
    "plt.tight_layout()\n",
    "plt.show()\n",
    "\n",
    "# 12. 모델 저장\n",
    "joblib.dump(scaler, './model/MLP/scaler.pkl')\n",
    "joblib.dump(model,  './model/MLP/model.pkl')\n",
    "\n",
    "#import pickle\n",
    "#import os\n",
    "#os.makedirs('./model/MLP', exist_ok=True)\n",
    "#\n",
    "## 저장\n",
    "#with open('./model/MLP/scaler.pkl', 'wb') as f:\n",
    "#    pickle.dump(scaler, f)\n",
    "#\n",
    "#with open('./model/MLP/model.pkl', 'wb') as f:\n",
    "#    pickle.dump(model, f)\n",
    "\n"
   ]
  },
  {
   "cell_type": "code",
   "execution_count": null,
   "metadata": {
    "colab": {
     "base_uri": "https://localhost:8080/"
    },
    "executionInfo": {
     "elapsed": 376,
     "status": "ok",
     "timestamp": 1749645419105,
     "user": {
      "displayName": "June Six",
      "userId": "14608914013626723392"
     },
     "user_tz": -540
    },
    "id": "ff8x4c6m-2Cw",
    "outputId": "21d4f0b5-02c6-4143-8165-c51a33a48a13"
   },
   "outputs": [
    {
     "name": "stdout",
     "output_type": "stream",
     "text": [
      "✅ 확률 포함된 ONNX 모델 저장 완료\n"
     ]
    }
   ],
   "source": [
    "from skl2onnx import convert_sklearn\n",
    "from skl2onnx.common.data_types import FloatTensorType\n",
    "\n",
    "from sklearn.pipeline import Pipeline\n",
    "\n",
    "# pipeline 정의\n",
    "pipeline = Pipeline([\n",
    "    ('scaler', scaler),\n",
    "    ('mlp', model)\n",
    "])\n",
    "\n",
    "# 변환 옵션 설정\n",
    "onnx_model = convert_sklearn(\n",
    "    pipeline,\n",
    "    initial_types=[('input', FloatTensorType([None, 256]))],\n",
    "    options={id(pipeline): {\n",
    "        \"output_class_labels\": True,\n",
    "        \"zipmap\": False\n",
    "    }}\n",
    ")\n",
    "\n",
    "# 저장\n",
    "with open(\"./model/MLP/model.onnx\", \"wb\") as f:\n",
    "    f.write(onnx_model.SerializeToString())\n",
    "\n",
    "print(\"✅ 확률 포함된 ONNX 모델 저장 완료\")\n"
   ]
  },
  {
   "cell_type": "code",
   "execution_count": null,
   "metadata": {
    "colab": {
     "base_uri": "https://localhost:8080/"
    },
    "executionInfo": {
     "elapsed": 8,
     "status": "ok",
     "timestamp": 1749645099100,
     "user": {
      "displayName": "June Six",
      "userId": "14608914013626723392"
     },
     "user_tz": -540
    },
    "id": "5tc92XdP5aCz",
    "outputId": "227b7114-fcce-433d-a718-a77c93459e03"
   },
   "outputs": [
    {
     "name": "stdout",
     "output_type": "stream",
     "text": [
      "✅ ONNX 모델 저장 완료: ./model/MLP/model.onnx\n"
     ]
    }
   ],
   "source": [
    "from skl2onnx import convert_sklearn\n",
    "from skl2onnx.common.data_types import FloatTensorType\n",
    "from sklearn.pipeline import Pipeline\n",
    "\n",
    "# 1. 파이프라인 구성 (scaler + model)\n",
    "pipeline = Pipeline([\n",
    "    (\"scaler\", scaler),\n",
    "    (\"mlp\", model)\n",
    "])\n",
    "\n",
    "# 2. 입력 형태 지정 (여기선 256차원 float 벡터)\n",
    "initial_type = [(\"input\", FloatTensorType([None, X_valid.shape[1]]))]\n",
    "\n",
    "# 3. 변환\n",
    "onnx_model = convert_sklearn(pipeline, initial_types=initial_type)\n",
    "\n",
    "# 4. 저장\n",
    "with open(\"./model/MLP/model.onnx\", \"wb\") as f:\n",
    "    f.write(onnx_model.SerializeToString())\n",
    "\n",
    "print(\"✅ ONNX 모델 저장 완료: ./model/MLP/model.onnx\")\n"
   ]
  },
  {
   "cell_type": "markdown",
   "metadata": {
    "id": "Vt7VaLFJfRWw"
   },
   "source": [
    "이하 nano에 올릴 코드"
   ]
  },
  {
   "cell_type": "code",
   "execution_count": null,
   "metadata": {
    "id": "s8L-9fwCfX7H"
   },
   "outputs": [],
   "source": [
    "import os\n",
    "import librosa\n",
    "import soundfile as sf\n",
    "from tqdm import tqdm\n",
    "import numpy as np\n",
    "\n",
    "def extract_highlight(input_dir=\"test/voice\", output_dir=\"test/voice_clips\", clip_duration=15.0):\n",
    "    print(\"Extracting 15-second highlight segments...\")\n",
    "    os.makedirs(output_dir, exist_ok=True)\n",
    "\n",
    "    files = [f for f in os.listdir(input_dir) if f.lower().endswith(\".wav\")]\n",
    "    print(f\"Found {len(files)} files to process.\")\n",
    "\n",
    "    for f in tqdm(files):\n",
    "        input_path = os.path.join(input_dir, f)\n",
    "        y, sr = librosa.load(input_path, sr=None)\n",
    "\n",
    "        total_duration = len(y) / sr\n",
    "        if total_duration < clip_duration:\n",
    "            print(f\"{f} is shorter than {clip_duration} seconds. Skipping.\")\n",
    "            continue\n",
    "\n",
    "        clip_len_samples = int(clip_duration * sr)\n",
    "        hop_length = sr\n",
    "\n",
    "        max_energy = 0\n",
    "        best_start = 0\n",
    "\n",
    "        for start in range(0, len(y) - clip_len_samples, hop_length):\n",
    "            segment = y[start:start + clip_len_samples]\n",
    "            energy = np.sum(segment ** 2)\n",
    "            if energy > max_energy:\n",
    "                max_energy = energy\n",
    "                best_start = start\n",
    "\n",
    "        highlight = y[best_start:best_start + clip_len_samples]\n",
    "\n",
    "        name_only = os.path.splitext(f)[0]\n",
    "        trimmed_name = name_only[len(\"voice_only_\"):] if name_only.startswith(\"voice_only_\") else name_only\n",
    "        output_filename = f\"cliped_{trimmed_name}.wav\"\n",
    "        output_path = os.path.join(output_dir, output_filename)\n",
    "\n",
    "        sf.write(output_path, highlight, sr)\n",
    "\n",
    "    print(\"Highlight extraction complete.\")\n",
    "\n"
   ]
  },
  {
   "cell_type": "code",
   "execution_count": null,
   "metadata": {
    "id": "6GpdPOCvhNAD"
   },
   "outputs": [],
   "source": [
    "import torch\n",
    "import torchaudio\n",
    "import torchaudio.transforms as T\n",
    "\n",
    "def preprocess_for_vggish(wav_path, target_sample_rate=16000):\n",
    "    # 1. 오디오 로드 및 리샘플링\n",
    "    waveform, sr = torchaudio.load(wav_path)\n",
    "    if sr != target_sample_rate:\n",
    "        resampler = T.Resample(sr, target_sample_rate)\n",
    "        waveform = resampler(waveform)\n",
    "\n",
    "    # 2. 채널 평균 (Mono로 변환)\n",
    "    if waveform.shape[0] > 1:\n",
    "        waveform = waveform.mean(dim=0, keepdim=True)\n",
    "\n",
    "    # 3. Mel Spectrogram (torchaudio의 설정은 VGGish에 맞게)\n",
    "    mel_transform = T.MelSpectrogram(\n",
    "        sample_rate=target_sample_rate,\n",
    "        n_fft=400,\n",
    "        win_length=400,\n",
    "        hop_length=160,\n",
    "        n_mels=64,\n",
    "        f_min=125,\n",
    "        f_max=7500,\n",
    "        power=2.0\n",
    "    )\n",
    "    mel = mel_transform(waveform)  # (1, 64, T)\n",
    "\n",
    "    # 4. dB 변환\n",
    "    db_transform = T.AmplitudeToDB()\n",
    "    mel_db = db_transform(mel)  # (1, 64, T)\n",
    "\n",
    "    # 5. Frame 단위 자르기 (96x64)\n",
    "    mel_db = mel_db.squeeze(0).transpose(0, 1)  # (T, 64)\n",
    "    if mel_db.shape[0] < 96:\n",
    "        # 패딩\n",
    "        pad_len = 96 - mel_db.shape[0]\n",
    "        mel_db = torch.nn.functional.pad(mel_db, (0, 0, 0, pad_len))\n",
    "    else:\n",
    "        mel_db = mel_db[:96, :]  # 앞에서부터 96 프레임 자름\n",
    "    mel_db = mel_db.transpose(0, 1)\n",
    "    mel_db = mel_db.unsqueeze(0)  # (1, 1, 96, 64)\n",
    "    return mel_db\n"
   ]
  },
  {
   "cell_type": "code",
   "execution_count": null,
   "metadata": {
    "id": "ZOiyGTGjhOg-"
   },
   "outputs": [],
   "source": [
    "import os\n",
    "import torchaudio\n",
    "import shutil\n",
    "import onnxruntime\n",
    "import numpy as np\n",
    "def run_vggish_onnx(sess, mel_db):\n",
    "    \"\"\"\n",
    "    mel_db: torch.Tensor of shape (1, 1, 96, 64)\n",
    "    onnx_path: path to vggish.onnx\n",
    "    \"\"\"\n",
    "\n",
    "    mel_spec_np = mel_db.numpy().astype(np.float32)\n",
    "\n",
    "    # 입력 이름 확인\n",
    "    input_name = sess.get_inputs()[0].name\n",
    "    output_name = sess.get_outputs()[0].name\n",
    "\n",
    "    # 추론\n",
    "    outputs = sess.run([output_name], {input_name: mel_spec_np})\n",
    "    embedding = outputs[0]  # shape: (1, 128)\n",
    "\n",
    "    return embedding.squeeze()\n"
   ]
  },
  {
   "cell_type": "code",
   "execution_count": null,
   "metadata": {
    "id": "zWFyiBndhqgA"
   },
   "outputs": [],
   "source": [
    "import os\n",
    "import shutil\n",
    "import numpy as np\n",
    "import torchaudio\n",
    "import onnxruntime\n",
    "import re\n",
    "\n",
    "def embedding(input_dir = \"test/voice_clips\", output_npz = \"test/voice_vectors.npz\", key_path=\"\"):\n",
    "# 설정\n",
    "    onnx_path = \"model/VGGish/audioset-vggish-3.onnx\"\n",
    "\n",
    "    # 0. 기존 벡터 불러오기 (있다면)\n",
    "    audio_vectors = {}\n",
    "    if os.path.exists(output_npz):\n",
    "        existing = np.load(output_npz, allow_pickle=True)\n",
    "        audio_vectors.update({k: existing[k] for k in existing.files})\n",
    "        print(f\"✅ 기존 벡터 {len(audio_vectors)}개 로드됨\")\n",
    "\n",
    "    # 1. ONNX 세션 생성\n",
    "    sess = onnxruntime.InferenceSession(\n",
    "        onnx_path,\n",
    "        providers=[\"CUDAExecutionProvider\", \"CPUExecutionProvider\"]\n",
    "    )\n",
    "\n",
    "    # 2. 벡터 추출 루프\n",
    "    def order_key(reference_list_path=None):\n",
    "        reference_order = {}\n",
    "        if reference_list_path and os.path.exists(reference_list_path):\n",
    "            with open(reference_list_path, \"r\", encoding=\"utf-8\") as f:\n",
    "                titles = [line.strip() for line in f]\n",
    "                for idx, title in enumerate(titles):\n",
    "                    filename = f\"cliped_{title}.wav\"\n",
    "                    reference_order[filename] = idx\n",
    "\n",
    "        def sort_key(filename):\n",
    "            if filename in reference_order:\n",
    "                return reference_order[filename]\n",
    "            match = re.search(r\"\\((\\d+)\\)\", filename)\n",
    "            return int(match.group(1)) if match else float('inf')\n",
    "\n",
    "        return sort_key\n",
    "\n",
    "    for fname in sorted(os.listdir(input_dir), key=order_key(key_path)):\n",
    "        if not fname.lower().endswith(\".wav\"):\n",
    "            continue\n",
    "\n",
    "        input_path = os.path.join(input_dir, fname)\n",
    "\n",
    "        try:\n",
    "            key = os.path.splitext(fname)[0]\n",
    "\n",
    "            mel_db = preprocess_for_vggish(input_path, target_sample_rate=16000)\n",
    "            audio_vectors[key] = run_vggish_onnx(sess, mel_db)\n",
    "\n",
    "            moved_dir = \"./\"+input_dir+\"/loaded_musics\"\n",
    "            os.makedirs(moved_dir, exist_ok=True)\n",
    "            shutil.move(input_path, os.path.join(moved_dir, fname))\n",
    "\n",
    "            print(f\"✅ 처리 완료: {fname}\")\n",
    "\n",
    "        except Exception as e:\n",
    "            print(f\"❌ 실패: {fname} - {e}\")\n",
    "\n",
    "    # 3. .npz 저장\n",
    "    np.savez(output_npz, **audio_vectors)\n",
    "    print(f\"\\n💾 총 {len(audio_vectors)}개의 벡터 저장 완료 → {output_npz}\")\n"
   ]
  },
  {
   "cell_type": "code",
   "execution_count": null,
   "metadata": {
    "colab": {
     "base_uri": "https://localhost:8080/"
    },
    "executionInfo": {
     "elapsed": 19971,
     "status": "ok",
     "timestamp": 1749639205407,
     "user": {
      "displayName": "June Six",
      "userId": "14608914013626723392"
     },
     "user_tz": -540
    },
    "id": "dH6LeKLifjIc",
    "outputId": "adfc5ab1-4fb0-4862-a9fd-d823d1b7b179"
   },
   "outputs": [
    {
     "name": "stdout",
     "output_type": "stream",
     "text": [
      "Extracting 15-second highlight segments...\n",
      "Found 3 files to process.\n"
     ]
    },
    {
     "name": "stderr",
     "output_type": "stream",
     "text": [
      "100%|██████████| 3/3 [00:13<00:00,  4.65s/it]\n"
     ]
    },
    {
     "name": "stdout",
     "output_type": "stream",
     "text": [
      "Highlight extraction complete.\n",
      "✅ 기존 벡터 3개 로드됨\n"
     ]
    },
    {
     "name": "stderr",
     "output_type": "stream",
     "text": [
      "/usr/local/lib/python3.11/dist-packages/onnxruntime/capi/onnxruntime_inference_collection.py:121: UserWarning: Specified provider 'CUDAExecutionProvider' is not in available provider names.Available providers: 'AzureExecutionProvider, CPUExecutionProvider'\n",
      "  warnings.warn(\n"
     ]
    },
    {
     "name": "stdout",
     "output_type": "stream",
     "text": [
      "✅ 처리 완료: cliped_user (7).wav\n",
      "✅ 처리 완료: cliped_user (14).wav\n",
      "✅ 처리 완료: cliped_신촌로 13 - 김장원.wav\n",
      "\n",
      "💾 총 4개의 벡터 저장 완료 → test/voice_vectors.npz\n"
     ]
    }
   ],
   "source": [
    " # 사용자 음성 자르기\n",
    "extract_highlight()\n",
    "embedding()"
   ]
  },
  {
   "cell_type": "code",
   "execution_count": null,
   "metadata": {
    "colab": {
     "base_uri": "https://localhost:8080/"
    },
    "executionInfo": {
     "elapsed": 9,
     "status": "ok",
     "timestamp": 1749644458584,
     "user": {
      "displayName": "June Six",
      "userId": "14608914013626723392"
     },
     "user_tz": -540
    },
    "id": "OZoXvRIEYbKs",
    "outputId": "0f073830-d0f1-4dfb-f57e-2b64a6f43889"
   },
   "outputs": [
    {
     "name": "stdout",
     "output_type": "stream",
     "text": [
      "4명의 목소리에 대해 60곡 중 추천하는 노래 탐색중\n",
      "\n",
      "== 음성 'cliped_user (14)' 에 대한 추천 Top-5 ==\n",
      "1. cliped_가시 - 버즈 | 확률: 95.38% | 예측: 좋음\n",
      "2. cliped_그대에게 - 신해철 | 확률: 94.72% | 예측: 좋음\n",
      "3. cliped_HAPPY - 데이식스 | 확률: 92.36% | 예측: 좋음\n",
      "4. cliped_노래방에서 - 장범준 | 확률: 89.21% | 예측: 좋음\n",
      "5. cliped_삐딱하게 - 지드래곤 | 확률: 87.97% | 예측: 좋음\n",
      "\n",
      "== 음성 'cliped_신촌로 13 - 김장원' 에 대한 추천 Top-5 ==\n",
      "1. cliped_노래방에서 - 장범준 | 확률: 82.34% | 예측: 좋음\n",
      "2. cliped_나에게로 떠나는 여행 - 버즈 | 확률: 81.28% | 예측: 좋음\n",
      "3. cliped_봄여름가을겨울 - 빅뱅 | 확률: 79.63% | 예측: 좋음\n",
      "4. cliped_가시 - 버즈 | 확률: 79.31% | 예측: 좋음\n",
      "5. cliped_응급실 - izi | 확률: 76.67% | 예측: 좋음\n",
      "\n",
      "== 음성 'cliped_user (7)' 에 대한 추천 Top-5 ==\n",
      "1. cliped_질풍가도 - 유정석 | 확률: 99.78% | 예측: 좋음\n",
      "2. cliped_그대만 있다면 - 너드커넥션 | 확률: 99.58% | 예측: 좋음\n",
      "3. cliped_봄여름가을겨울 - 빅뱅 | 확률: 99.49% | 예측: 좋음\n",
      "4. cliped_가시 - 버즈 | 확률: 99.47% | 예측: 좋음\n",
      "5. cliped_나에게로 떠나는 여행 - 버즈 | 확률: 99.46% | 예측: 좋음\n",
      "\n",
      "== 음성 'cliped_신촌로 13 - 김장원' 에 대한 추천 Top-5 ==\n",
      "1. cliped_노래방에서 - 장범준 | 확률: 82.34% | 예측: 좋음\n",
      "2. cliped_나에게로 떠나는 여행 - 버즈 | 확률: 81.28% | 예측: 좋음\n",
      "3. cliped_봄여름가을겨울 - 빅뱅 | 확률: 79.63% | 예측: 좋음\n",
      "4. cliped_가시 - 버즈 | 확률: 79.31% | 예측: 좋음\n",
      "5. cliped_응급실 - izi | 확률: 76.67% | 예측: 좋음\n"
     ]
    }
   ],
   "source": [
    "import joblib\n",
    "import numpy as np\n",
    "\n",
    "# 1) pkl 불러오기\n",
    "scaler = joblib.load('./model/MLP/scaler.pkl')\n",
    "model  = joblib.load('./model/MLP/model.pkl')\n",
    "\n",
    "# 2) 새로운 벡터 로드/생성\n",
    "import numpy as np\n",
    "voices_npz = np.load(\"./test/voice_vectors.npz\")\n",
    "songs_npz  = np.load(\"./vectors/music_vectors.npz\")\n",
    "\n",
    "voice_keys = voices_npz.files[:M]\n",
    "song_keys = songs_npz.files[:N]\n",
    "\n",
    "M = len(voice_keys) # 60\n",
    "N = len(song_keys)  # 3\n",
    "\n",
    "print(f\"{M}명의 목소리에 대해 {N}곡 중 추천하는 노래 탐색중\")\n",
    "\n",
    "# 3. 벡터 배열 생성\n",
    "voices = np.stack([voices_npz[k] for k in voice_keys])  # (M, 128)\n",
    "songs  = np.stack([songs_npz[k] for k in song_keys])    # (N, 128)\n",
    "\n",
    "voice_repeated = np.repeat(voices, N, axis=0)           # (M×N, 128)\n",
    "song_tiled     = np.tile(songs, (M, 1))                 # (M×N, 128)\n",
    "X              = np.hstack([voice_repeated, song_tiled])  # (M×N, 256)\n",
    "\n",
    "# 4) 스케일링\n",
    "X_scaled = scaler.transform(X)\n",
    "\n",
    "# 5) 예측\n",
    "y_prob = model.predict_proba(X_scaled)[:,1]  # 양성(1)일 확률\n",
    "y_pred = model.predict(X_scaled)             # 0 또는 1\n",
    "\n",
    "# 6) 상위 K개 추천 출력\n",
    "recommend = list(song_keys)  # 곡 이름 리스트\n",
    "K = 5\n",
    "\n",
    "\n",
    "for i, voice_id in enumerate(voice_keys):\n",
    "    start = i * N\n",
    "    end   = start + N\n",
    "    probs = y_prob[start:end]\n",
    "    preds = y_pred[start:end]\n",
    "\n",
    "    # 확률 내림차순 정렬된 인덱스 상위 K개\n",
    "    top_idx = np.argsort(probs)[::-1][:K]\n",
    "\n",
    "    print(f\"\\n== 음성 '{voice_id}' 에 대한 추천 Top-{K} ==\")\n",
    "    for rank, idx in enumerate(top_idx, 1):\n",
    "        song_name = recommend[idx]\n",
    "        print(f\"{rank}. {song_name} | 확률: {probs[idx]*100:.2f}% | 예측: {'좋음' if preds[idx]==1 else '나쁨'}\")"
   ]
  },
  {
   "cell_type": "code",
   "execution_count": null,
   "metadata": {
    "colab": {
     "base_uri": "https://localhost:8080/"
    },
    "executionInfo": {
     "elapsed": 53,
     "status": "ok",
     "timestamp": 1749645639178,
     "user": {
      "displayName": "June Six",
      "userId": "14608914013626723392"
     },
     "user_tz": -540
    },
    "id": "6Fb_RoQTZ9cQ",
    "outputId": "37fe281d-2c06-45e4-b587-802a80c23585"
   },
   "outputs": [
    {
     "name": "stdout",
     "output_type": "stream",
     "text": [
      "4명의 목소리에 대해 60곡 중 추천하는 노래 탐색중\n",
      "\n",
      "== 음성 'cliped_user (14)' 에 대한 추천 Top-5 ==\n",
      "1. cliped_가시 - 버즈 | 확률: 95.38% | 예측: 좋음\n",
      "2. cliped_그대에게 - 신해철 | 확률: 94.72% | 예측: 좋음\n",
      "3. cliped_HAPPY - 데이식스 | 확률: 92.36% | 예측: 좋음\n",
      "4. cliped_노래방에서 - 장범준 | 확률: 89.21% | 예측: 좋음\n",
      "5. cliped_삐딱하게 - 지드래곤 | 확률: 87.97% | 예측: 좋음\n",
      "\n",
      "== 음성 'cliped_신촌로 13 - 김장원' 에 대한 추천 Top-5 ==\n",
      "1. cliped_노래방에서 - 장범준 | 확률: 82.34% | 예측: 좋음\n",
      "2. cliped_나에게로 떠나는 여행 - 버즈 | 확률: 81.28% | 예측: 좋음\n",
      "3. cliped_봄여름가을겨울 - 빅뱅 | 확률: 79.63% | 예측: 좋음\n",
      "4. cliped_가시 - 버즈 | 확률: 79.31% | 예측: 좋음\n",
      "5. cliped_응급실 - izi | 확률: 76.67% | 예측: 좋음\n",
      "\n",
      "== 음성 'cliped_user (7)' 에 대한 추천 Top-5 ==\n",
      "1. cliped_질풍가도 - 유정석 | 확률: 99.78% | 예측: 좋음\n",
      "2. cliped_그대만 있다면 - 너드커넥션 | 확률: 99.58% | 예측: 좋음\n",
      "3. cliped_봄여름가을겨울 - 빅뱅 | 확률: 99.49% | 예측: 좋음\n",
      "4. cliped_가시 - 버즈 | 확률: 99.47% | 예측: 좋음\n",
      "5. cliped_나에게로 떠나는 여행 - 버즈 | 확률: 99.46% | 예측: 좋음\n",
      "\n",
      "== 음성 'cliped_신촌로 13 - 김장원' 에 대한 추천 Top-5 ==\n",
      "1. cliped_노래방에서 - 장범준 | 확률: 82.34% | 예측: 좋음\n",
      "2. cliped_나에게로 떠나는 여행 - 버즈 | 확률: 81.28% | 예측: 좋음\n",
      "3. cliped_봄여름가을겨울 - 빅뱅 | 확률: 79.63% | 예측: 좋음\n",
      "4. cliped_가시 - 버즈 | 확률: 79.31% | 예측: 좋음\n",
      "5. cliped_응급실 - izi | 확률: 76.67% | 예측: 좋음\n"
     ]
    }
   ],
   "source": [
    "import numpy as np\n",
    "import onnxruntime as ort\n",
    "\n",
    "# 1. 벡터 불러오기\n",
    "voices_npz = np.load(\"./test/voice_vectors.npz\")\n",
    "songs_npz  = np.load(\"./vectors/music_vectors.npz\")\n",
    "\n",
    "M = len(voices_npz.files)\n",
    "N = len(songs_npz.files)\n",
    "voice_keys = voices_npz.files[:M]\n",
    "song_keys  = songs_npz.files[:N]\n",
    "\n",
    "print(f\"{M}명의 목소리에 대해 {N}곡 중 추천하는 노래 탐색중\")\n",
    "\n",
    "# 2. 입력 벡터 구성\n",
    "voices = np.stack([voices_npz[k] for k in voice_keys])   # (M, 128)\n",
    "songs  = np.stack([songs_npz[k] for k in song_keys])     # (N, 128)\n",
    "\n",
    "voice_repeated = np.repeat(voices, N, axis=0)            # (M×N, 128)\n",
    "song_tiled     = np.tile(songs, (M, 1))                  # (M×N, 128)\n",
    "X              = np.hstack([voice_repeated, song_tiled]) # (M×N, 256)\n",
    "\n",
    "# 3. ONNX 모델 로드\n",
    "onnx_path = \"./model/MLP/model.onnx\"\n",
    "sess = ort.InferenceSession(onnx_path)\n",
    "\n",
    "# 4. 입력 이름 확인\n",
    "input_name = sess.get_inputs()[0].name\n",
    "output_names = [o.name for o in sess.get_outputs()]\n",
    "\n",
    "# 5. 추론\n",
    "outputs = sess.run(output_names, {input_name: X.astype(np.float32)})\n",
    "y_pred = outputs[0]\n",
    "y_prob = outputs[1][:, 1]\n",
    "\n",
    "\n",
    "# 6. 상위 K개 추천 출력\n",
    "K = 5\n",
    "recommend = list(song_keys)\n",
    "\n",
    "for i, voice_id in enumerate(voice_keys):\n",
    "    start = i * N\n",
    "    end   = start + N\n",
    "    probs = y_prob[start:end]\n",
    "    preds = y_pred[start:end]\n",
    "\n",
    "    top_idx = np.argsort(probs)[::-1][:K]\n",
    "\n",
    "    print(f\"\\n== 음성 '{voice_id}' 에 대한 추천 Top-{K} ==\")\n",
    "    for rank, idx in enumerate(top_idx, 1):\n",
    "        song_name = recommend[idx]\n",
    "        print(f\"{rank}. {song_name} | 확률: {probs[idx]*100:.2f}% | 예측: {'좋음' if preds[idx]==1 else '나쁨'}\")\n"
   ]
  },
  {
   "cell_type": "code",
   "execution_count": 7,
   "metadata": {
    "colab": {
     "base_uri": "https://localhost:8080/"
    },
    "executionInfo": {
     "elapsed": 1082,
     "status": "ok",
     "timestamp": 1749726120721,
     "user": {
      "displayName": "이재원",
      "userId": "00961475728525731753"
     },
     "user_tz": -540
    },
    "id": "iMwk-GcUzVOG",
    "outputId": "57786fe7-bdc4-4022-8ccb-10c9960861fc"
   },
   "outputs": [
    {
     "name": "stdout",
     "output_type": "stream",
     "text": [
      "4명의 목소리에 대해 60곡 중 추천하는 노래 탐색중\n",
      "\n",
      "== 음성 'cliped_user (14)' 에 대한 추천 Top-5 ==\n",
      "1. cliped_응급실 - izi | 확률: 84.05% | 예측: 좋음\n",
      "2. cliped_질풍가도 - 유정석 | 확률: 83.43% | 예측: 좋음\n",
      "3. cliped_나에게로 떠나는 여행 - 버즈 | 확률: 78.61% | 예측: 좋음\n",
      "4. cliped_삐딱하게 - 지드래곤 | 확률: 75.90% | 예측: 좋음\n",
      "5. cliped_붉은 노을 - 빅뱅 | 확률: 66.26% | 예측: 좋음\n",
      "\n",
      "== 음성 'cliped_신촌로 13 - 김장원' 에 대한 추천 Top-5 ==\n",
      "1. cliped_응급실 - izi | 확률: 70.35% | 예측: 좋음\n",
      "2. cliped_질풍가도 - 유정석 | 확률: 69.40% | 예측: 좋음\n",
      "3. cliped_나에게로 떠나는 여행 - 버즈 | 확률: 62.35% | 예측: 좋음\n",
      "4. cliped_삐딱하게 - 지드래곤 | 확률: 58.65% | 예측: 좋음\n",
      "5. cliped_붉은 노을 - 빅뱅 | 확률: 46.94% | 예측: 나쁨\n",
      "\n",
      "== 음성 'cliped_user (7)' 에 대한 추천 Top-5 ==\n",
      "1. cliped_응급실 - izi | 확률: 96.85% | 예측: 좋음\n",
      "2. cliped_질풍가도 - 유정석 | 확률: 96.70% | 예측: 좋음\n",
      "3. cliped_나에게로 떠나는 여행 - 버즈 | 확률: 95.54% | 예측: 좋음\n",
      "4. cliped_삐딱하게 - 지드래곤 | 확률: 94.83% | 예측: 좋음\n",
      "5. cliped_붉은 노을 - 빅뱅 | 확률: 91.97% | 예측: 좋음\n",
      "\n",
      "== 음성 'cliped_신촌로 13 - 김장원' 에 대한 추천 Top-5 ==\n",
      "1. cliped_응급실 - izi | 확률: 70.35% | 예측: 좋음\n",
      "2. cliped_질풍가도 - 유정석 | 확률: 69.40% | 예측: 좋음\n",
      "3. cliped_나에게로 떠나는 여행 - 버즈 | 확률: 62.35% | 예측: 좋음\n",
      "4. cliped_삐딱하게 - 지드래곤 | 확률: 58.65% | 예측: 좋음\n",
      "5. cliped_붉은 노을 - 빅뱅 | 확률: 46.94% | 예측: 나쁨\n"
     ]
    }
   ],
   "source": [
    "import joblib\n",
    "import numpy as np\n",
    "\n",
    "# 1) pkl 불러오기\n",
    "scaler = joblib.load('./model/LR/scaler.pkl')\n",
    "model  = joblib.load('./model/LR/model.pkl')\n",
    "\n",
    "# 2) 새로운 벡터 로드/생성\n",
    "import numpy as np\n",
    "voices_npz = np.load(\"./test/voice_vectors.npz\")\n",
    "songs_npz  = np.load(\"./vectors/music_vectors.npz\")\n",
    "\n",
    "voice_keys = voices_npz.files[:M]\n",
    "song_keys = songs_npz.files[:N]\n",
    "\n",
    "M = len(voice_keys) # 60\n",
    "N = len(song_keys)  # 3\n",
    "\n",
    "print(f\"{M}명의 목소리에 대해 {N}곡 중 추천하는 노래 탐색중\")\n",
    "\n",
    "# 3. 벡터 배열 생성\n",
    "voices = np.stack([voices_npz[k] for k in voice_keys])  # (M, 128)\n",
    "songs  = np.stack([songs_npz[k] for k in song_keys])    # (N, 128)\n",
    "\n",
    "voice_repeated = np.repeat(voices, N, axis=0)           # (M×N, 128)\n",
    "song_tiled     = np.tile(songs, (M, 1))                 # (M×N, 128)\n",
    "X              = np.hstack([voice_repeated, song_tiled])  # (M×N, 256)\n",
    "\n",
    "# 4) 스케일링\n",
    "X_scaled = scaler.transform(X)\n",
    "\n",
    "# 5) 예측\n",
    "y_prob = model.predict_proba(X_scaled)[:,1]  # 양성(1)일 확률\n",
    "y_pred = model.predict(X_scaled)             # 0 또는 1\n",
    "\n",
    "# 6) 상위 K개 추천 출력\n",
    "recommend = list(song_keys)  # 곡 이름 리스트\n",
    "K = 5\n",
    "\n",
    "\n",
    "for i, voice_id in enumerate(voice_keys):\n",
    "    start = i * N\n",
    "    end   = start + N\n",
    "    probs = y_prob[start:end]\n",
    "    preds = y_pred[start:end]\n",
    "\n",
    "    # 확률 내림차순 정렬된 인덱스 상위 K개\n",
    "    top_idx = np.argsort(probs)[::-1][:K]\n",
    "\n",
    "    print(f\"\\n== 음성 '{voice_id}' 에 대한 추천 Top-{K} ==\")\n",
    "    for rank, idx in enumerate(top_idx, 1):\n",
    "        song_name = recommend[idx]\n",
    "        print(f\"{rank}. {song_name} | 확률: {probs[idx]*100:.2f}% | 예측: {'좋음' if preds[idx]==1 else '나쁨'}\")"
   ]
  }
 ],
 "metadata": {
  "accelerator": "GPU",
  "colab": {
   "gpuType": "T4",
   "provenance": []
  },
  "kernelspec": {
   "display_name": "Python 3",
   "name": "python3"
  },
  "language_info": {
   "codemirror_mode": {
    "name": "ipython",
    "version": 3
   },
   "file_extension": ".py",
   "mimetype": "text/x-python",
   "name": "python",
   "nbconvert_exporter": "python",
   "pygments_lexer": "ipython3",
   "version": "3.10.11"
  }
 },
 "nbformat": 4,
 "nbformat_minor": 0
}
