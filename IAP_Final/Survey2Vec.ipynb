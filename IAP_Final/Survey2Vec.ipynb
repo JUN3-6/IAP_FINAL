{
 "cells": [
  {
   "cell_type": "code",
   "execution_count": 20,
   "metadata": {
    "colab": {
     "base_uri": "https://localhost:8080/"
    },
    "executionInfo": {
     "elapsed": 16,
     "status": "ok",
     "timestamp": 1749520593774,
     "user": {
      "displayName": "June Six",
      "userId": "14608914013626723392"
     },
     "user_tz": -540
    },
    "id": "JcWq_R4-jGPC",
    "outputId": "552b9e85-2b7b-40bd-9fa1-65ba9bc6cf58"
   },
   "outputs": [
    {
     "name": "stdout",
     "output_type": "stream",
     "text": [
      "g:\\내 드라이브\\IAP_Final\\노래방 선호곡 조사 구글폼\n"
     ]
    }
   ],
   "source": [
    "cd \"g:\\내 드라이브\\IAP_Final/노래방 선호곡 조사 구글폼\""
   ]
  },
  {
   "cell_type": "code",
   "execution_count": 21,
   "metadata": {
    "colab": {
     "base_uri": "https://localhost:8080/",
     "height": 393
    },
    "executionInfo": {
     "elapsed": 1180,
     "status": "error",
     "timestamp": 1749520579706,
     "user": {
      "displayName": "June Six",
      "userId": "14608914013626723392"
     },
     "user_tz": -540
    },
    "id": "4adxRxh1i21g",
    "outputId": "e488ffdc-b4fa-45d4-a487-5ed5b3e71f23"
   },
   "outputs": [
    {
     "name": "stderr",
     "output_type": "stream",
     "text": [
      "C:\\Users\\JUNE\\AppData\\Local\\Temp\\ipykernel_29324\\922211798.py:26: FutureWarning: Downcasting behavior in `replace` is deprecated and will be removed in a future version. To retain the old behavior, explicitly call `result.infer_objects(copy=False)`. To opt-in to the future behavior, set `pd.set_option('future.no_silent_downcasting', True)`\n",
      "  df_converted = df_filtered.replace(mapping)\n"
     ]
    }
   ],
   "source": [
    "import pandas as pd\n",
    "import numpy as np\n",
    "\n",
    "# 1. Google Sheet에서 불러오기\n",
    "sheet_id = \"1M7KFHAKFsRUa4pFebRmanIN0bfi93PHsJSlxnwUSBGk\"\n",
    "csv_url = f\"https://docs.google.com/spreadsheets/d/{sheet_id}/export?format=csv\"\n",
    "df = pd.read_csv(csv_url)\n",
    "\n",
    "# 2. 매핑 정의\n",
    "mapping = {\n",
    "    \"부르고 싶음\": 1.0,\n",
    "    \"조금 부르고 싶음\": 0.75,\n",
    "    \"약간 안부르고 싶음\": 0.25,\n",
    "    \"안부르고 싶음\": 0,\n",
    "    \"모르는 노래\": np.nan\n",
    "}\n",
    "\n",
    "# 3. 링크나 텍스트가 들어간 열 제거\n",
    "df_filtered = df.drop(columns=[\"타임스탬프\"])\n",
    "df_filtered = df_filtered.loc[:, ~df_filtered.apply(lambda col: col.astype(str).str.contains(\"http\").any())]\n",
    "\n",
    "with open(\"song_list.txt\", \"w\", encoding=\"utf-8\") as f:\n",
    "    f.writelines([col + \"\\n\" for col in df_filtered.columns.tolist()])\n",
    "\n",
    "# 4. 텍스트를 점수로 변환\n",
    "df_converted = df_filtered.replace(mapping)\n",
    "\n",
    "# 5. npz 저장\n",
    "y_matrix = df_converted.to_numpy(dtype=np.float32)\n",
    "np.savez_compressed(\"y_vectors.npz\", y=y_matrix)\n"
   ]
  }
 ],
 "metadata": {
  "colab": {
   "authorship_tag": "ABX9TyPczFMqMAQnB4k5QY5DsMLV",
   "provenance": []
  },
  "kernelspec": {
   "display_name": "Python 3",
   "name": "python3"
  },
  "language_info": {
   "codemirror_mode": {
    "name": "ipython",
    "version": 3
   },
   "file_extension": ".py",
   "mimetype": "text/x-python",
   "name": "python",
   "nbconvert_exporter": "python",
   "pygments_lexer": "ipython3",
   "version": "3.10.11"
  }
 },
 "nbformat": 4,
 "nbformat_minor": 0
}
